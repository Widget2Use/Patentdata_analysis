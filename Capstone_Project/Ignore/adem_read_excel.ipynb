{
 "cells": [
  {
   "cell_type": "code",
   "execution_count": 9,
   "metadata": {},
   "outputs": [],
   "source": [
    "#Code for Reading and preparing Excel-File\n",
    "\n",
    "#Name of the file\n",
    "file1 = \"Examle of a IP list 22-10-19_smaller.xlsx\" \n",
    "file2 = \"Examle of a IP list 22-10-19_smaller2.xlsx\" \n",
    "file3 = \"Examle of a IP list 22-10-19_smaller3.xlsx\" \n",
    "\n",
    "#read excel file\n",
    "import pandas as pd\n",
    "\n",
    "# Load the xlsx file\n",
    "data1 = pd.read_excel(file1)\n",
    "data2 = pd.read_excel(file2)\n",
    "data3 = pd.read_excel(file3)\n",
    "\n",
    "#merge them \n",
    "# data1.append(data2, ignore_index = True)\n",
    "# data1.append(data3, ignore_index = True)\n",
    "# data = data1\n",
    "data = pd.concat([data1, data2,data3])\n",
    "#columnnames: delete \"-\"\n",
    "data.columns = data.columns.str.replace(\"-\",\"\")\n",
    "\n",
    "#columnnames: replace double whitespace with \"_\"\n",
    "data.columns = data.columns.str.replace(\"  \",\"_\")\n",
    "\n",
    "#columnnames: lowercase and replace whitespace with \"_\"\n",
    "data.columns= data.columns.str.lower()\n",
    "data.columns = data.columns.str.replace(\" \",\"_\")\n",
    "\n",
    "#columnnames: replace \"/\" with \"_or_\"\n",
    "data.columns = data.columns.str.replace(\"/\",\"_or_\")\n",
    "\n",
    "#columnnames: delete \",\"\n",
    "data.columns = data.columns.str.replace(\",\",\"\")\n",
    "\n",
    "#columnnames: replace \"=\" with \"equals\"\n",
    "data.columns = data.columns.str.replace(\"=\",\"equals\")\n",
    "\n",
    "#specific columnvalues: apply lowercase\n",
    "specific_columns = [\"title\",\"assignee_or_applicant\",\"optimized_assignee\",\"inventor\",\"abstract\",\"claims\",\n",
    "                    \"dead_or_alive_inpadoc_family_status\"]\n",
    "\n",
    "for i in range(len(specific_columns)):\n",
    "    data[f\"{specific_columns[i]}\"]=data[f\"{specific_columns[i]}\"].str.lower()\n",
    "\n",
    "#specific columnvalues: to string\n",
    "specific_columns.append(\"inpadoc_family_members\")\n",
    "for i in range(len(specific_columns)):\n",
    "    data[f\"{specific_columns[i]}\"]=data[f\"{specific_columns[i]}\"].astype(\"string\")\n",
    "\n",
    "#change date-time-columns to date\n",
    "#data['publication_date'] = pd.to_datetime(data['publication_date'])\n",
    "#data['application_date'] = pd.to_datetime(data['application_date'])"
   ]
  },
  {
   "cell_type": "code",
   "execution_count": 11,
   "metadata": {},
   "outputs": [
    {
     "name": "stdout",
     "output_type": "stream",
     "text": [
      "<class 'pandas.core.frame.DataFrame'>\n",
      "RangeIndex: 7998 entries, 0 to 7997\n",
      "Data columns (total 18 columns):\n",
      " #   Column                                           Non-Null Count  Dtype  \n",
      "---  ------                                           --------------  -----  \n",
      " 0   publication_number                               7998 non-null   object \n",
      " 1   title                                            7916 non-null   string \n",
      " 2   assignee_or_applicant                            7871 non-null   string \n",
      " 3   priority_date_earliest                           7998 non-null   object \n",
      " 4   application_date                                 7998 non-null   object \n",
      " 5   publication_date                                 7998 non-null   object \n",
      " 6   inpadoc_family_members                           7547 non-null   string \n",
      " 7   optimized_assignee                               7959 non-null   string \n",
      " 8   inventor                                         7846 non-null   string \n",
      " 9   abstract                                         7834 non-null   string \n",
      " 10  claims                                           7764 non-null   string \n",
      " 11  application_number                               7998 non-null   object \n",
      " 12  dead_or_alive_inpadoc_family_status              7998 non-null   string \n",
      " 13  pdf_copy                                         0 non-null      float64\n",
      " 14  comment_dbs                                      495 non-null    object \n",
      " 15  null_equals_nicht_relevant_eins_equals_relevant  979 non-null    object \n",
      " 16  suchstring_19                                    815 non-null    object \n",
      " 17  farbe                                            820 non-null    object \n",
      "dtypes: float64(1), object(9), string(8)\n",
      "memory usage: 1.1+ MB\n"
     ]
    }
   ],
   "source": [
    "#make column\n",
    "data.info()"
   ]
  }
 ],
 "metadata": {
  "kernelspec": {
   "display_name": "Python 3.9.12 ('nf_base')",
   "language": "python",
   "name": "python3"
  },
  "language_info": {
   "codemirror_mode": {
    "name": "ipython",
    "version": 3
   },
   "file_extension": ".py",
   "mimetype": "text/x-python",
   "name": "python",
   "nbconvert_exporter": "python",
   "pygments_lexer": "ipython3",
   "version": "3.9.12"
  },
  "orig_nbformat": 4,
  "vscode": {
   "interpreter": {
    "hash": "ab3d85a18739f6fff6a9c8c504adc2ff9340867b576dede986e2ee74c099e4e5"
   }
  }
 },
 "nbformat": 4,
 "nbformat_minor": 2
}
