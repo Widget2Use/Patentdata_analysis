{
 "cells": [
  {
   "cell_type": "code",
   "execution_count": 1,
   "metadata": {},
   "outputs": [],
   "source": [
    "#Code for Reading and preparing Excel-File\n",
    "\n",
    "#Name of the file\n",
    "file1 = \"Examle of a IP list 22-10-19_smaller.xlsx\" \n",
    "file2 = \"Examle of a IP list 22-10-19_smaller2.xlsx\" \n",
    "file3 = \"Examle of a IP list 22-10-19_smaller3.xlsx\" \n",
    "\n",
    "#read excel file\n",
    "import pandas as pd\n",
    "\n",
    "# Load the xlsx file\n",
    "data1 = pd.read_excel(file1)\n",
    "data2 = pd.read_excel(file2)\n",
    "data3 = pd.read_excel(file3)\n",
    "\n",
    "#merge them \n",
    "# data1.append(data2, ignore_index = True)\n",
    "# data1.append(data3, ignore_index = True)\n",
    "# data = data1\n",
    "data = pd.concat([data1, data2,data3])\n",
    "#columnnames: delete \"-\"\n",
    "data.columns = data.columns.str.replace(\"-\",\"\")\n",
    "\n",
    "#columnnames: replace double whitespace with \"_\"\n",
    "data.columns = data.columns.str.replace(\"  \",\"_\")\n",
    "\n",
    "#columnnames: lowercase and replace whitespace with \"_\"\n",
    "data.columns= data.columns.str.lower()\n",
    "data.columns = data.columns.str.replace(\" \",\"_\")\n",
    "\n",
    "#columnnames: replace \"/\" with \"_or_\"\n",
    "data.columns = data.columns.str.replace(\"/\",\"_or_\")\n",
    "\n",
    "#columnnames: delete \",\"\n",
    "data.columns = data.columns.str.replace(\",\",\"\")\n",
    "\n",
    "#columnnames: replace \"=\" with \"equals\"\n",
    "data.columns = data.columns.str.replace(\"=\",\"equals\")\n",
    "\n",
    "#specific columnvalues: apply lowercase\n",
    "specific_columns = [\"title\",\"assignee_or_applicant\",\"optimized_assignee\",\"inventor\",\"abstract\",\"claims\",\n",
    "                    \"dead_or_alive_inpadoc_family_status\"]\n",
    "\n",
    "for i in range(len(specific_columns)):\n",
    "    data[f\"{specific_columns[i]}\"]=data[f\"{specific_columns[i]}\"].str.lower()\n",
    "\n",
    "#specific columnvalues: to string\n",
    "specific_columns.append(\"inpadoc_family_members\")\n",
    "for i in range(len(specific_columns)):\n",
    "    data[f\"{specific_columns[i]}\"]=data[f\"{specific_columns[i]}\"].astype(\"string\")\n",
    "\n",
    "#delete duplicate publication_numbers\n",
    "data.drop_duplicates(subset=\"publication_number\", keep='last')\n",
    "\n",
    "#reset index\n",
    "data.reset_index(inplace= True)\n",
    "data = data.drop(\"index\", axis = 1)\n",
    "\n",
    "\n",
    "#change date-time-columns to date\n",
    "#data['publication_date'] = pd.to_datetime(data['publication_date'])\n",
    "#data['application_date'] = pd.to_datetime(data['application_date'])"
   ]
  },
  {
   "cell_type": "code",
   "execution_count": null,
   "metadata": {},
   "outputs": [],
   "source": []
  }
 ],
 "metadata": {
  "kernelspec": {
   "display_name": "Python 3.9.12 ('nf_base')",
   "language": "python",
   "name": "python3"
  },
  "language_info": {
   "codemirror_mode": {
    "name": "ipython",
    "version": 3
   },
   "file_extension": ".py",
   "mimetype": "text/x-python",
   "name": "python",
   "nbconvert_exporter": "python",
   "pygments_lexer": "ipython3",
   "version": "3.9.12"
  },
  "orig_nbformat": 4,
  "vscode": {
   "interpreter": {
    "hash": "ab3d85a18739f6fff6a9c8c504adc2ff9340867b576dede986e2ee74c099e4e5"
   }
  }
 },
 "nbformat": 4,
 "nbformat_minor": 2
}
