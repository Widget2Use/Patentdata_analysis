{
 "cells": [
  {
   "cell_type": "markdown",
   "metadata": {},
   "source": [
    "Helpful Links:\n",
    "Geomapping: https://stackoverflow.com/questions/65064137/geopandas-how-to-plot-countries-cities"
   ]
  },
  {
   "cell_type": "code",
   "execution_count": null,
   "metadata": {},
   "outputs": [],
   "source": [
    "#import virtualenvironment\n",
    "wd = os.getcwd()\n",
    "wd_venv = wd +\"/Virtualenvironment\"\n",
    "os.chdir(wd_venv)\n",
    "\n",
    "def pip_install():\n",
    "    with cd(wd_venv):\n",
    "        with prefix('source venv/bin/activate'):\n",
    "            run('pip install -r requirements.txt')\n",
    "os.chdir(wd)"
   ]
  },
  {
   "cell_type": "code",
   "execution_count": null,
   "metadata": {},
   "outputs": [
    {
     "ename": "",
     "evalue": "",
     "output_type": "error",
     "traceback": [
      "\u001b[1;31mDas Ausführen von Zellen mit „Python ('patent_venvironment')“ erfordert das ipykernel-Paket.\n",
      "\u001b[1;31mFühren Sie den folgenden Befehl aus, um „ipykernel“ in der Python-Umgebung zu installieren. \n",
      "\u001b[1;31mBefehl: „conda install -n patent_venvironment ipykernel --update-deps --force-reinstall“"
     ]
    }
   ],
   "source": [
    "import geopandas as gpd\n",
    "import matplotlib.pyplot as plt  \n",
    "import matplotlib.animation \n",
    "#import matplotlib\n",
    "#matplotlib.use('TkAgg')\n",
    "import numpy as np\n",
    "#Wetter-API Import\n",
    "import requests \n",
    "\n",
    "import os\n",
    "import pandas as pd\n",
    "import psycopg2\n",
    "import contextily as ctx\n",
    "from shapely.geometry import Point\n",
    "from matplotlib.animation import FuncAnimation\n",
    "from IPython import display\n",
    "from IPython.display import HTML\n",
    "from celluloid import Camera\n",
    "from mpl_toolkits.axes_grid1 import make_axes_locatable\n"
   ]
  },
  {
   "cell_type": "markdown",
   "metadata": {},
   "source": []
  },
  {
   "cell_type": "code",
   "execution_count": 3,
   "metadata": {},
   "outputs": [],
   "source": [
    "#read files inside folder for translational data\n",
    "\n",
    "\n",
    "from typing import List\n",
    "import pathlib\n",
    "wd = os.getcwd()\n",
    "wd = wd+\"/Prepared_Data\"\n",
    "def find_excel_files_in(directory:pathlib.Path) -> List[pathlib.Path]:\n",
    "    \n",
    "    files:List[pathlib.Path] = list()\n",
    "    for filepath in directory.rglob('*.csv'):\n",
    "        if filepath.is_file():\n",
    "            files.append(filepath)\n",
    "\n",
    "    return files\n",
    "\n",
    "# List of your directories\n",
    "directories:List[str] = [format(wd)]\n",
    "\n",
    "found_files:List[pathlib.Path] = list()\n",
    "\n",
    "for directory in directories:\n",
    "    directory:pathlib.Path = pathlib.Path(directory)\n",
    "    found_files.extend(find_excel_files_in(directory))\n",
    "\n",
    "#read excel files\n",
    "import pandas as pd\n",
    "\n",
    "#print(files)\n",
    "    #Deleting all empty rows in the file df\n",
    "for files in found_files:\n",
    "    data = pd.read_csv(files)\n"
   ]
  },
  {
   "cell_type": "code",
   "execution_count": 4,
   "metadata": {},
   "outputs": [
    {
     "ename": "NameError",
     "evalue": "name 'data' is not defined",
     "output_type": "error",
     "traceback": [
      "\u001b[0;31m---------------------------------------------------------------------------\u001b[0m",
      "\u001b[0;31mNameError\u001b[0m                                 Traceback (most recent call last)",
      "\u001b[1;32m/Users/ademzemni/neuefische/capstone/Capstone_Project/adem_visualization_granted_notgranted_geopandas.ipynb Zelle 5\u001b[0m in \u001b[0;36m<cell line: 1>\u001b[0;34m()\u001b[0m\n\u001b[0;32m----> <a href='vscode-notebook-cell:/Users/ademzemni/neuefische/capstone/Capstone_Project/adem_visualization_granted_notgranted_geopandas.ipynb#W4sZmlsZQ%3D%3D?line=0'>1</a>\u001b[0m data\u001b[39m.\u001b[39moptimized_assignee\u001b[39m.\u001b[39munique()\n",
      "\u001b[0;31mNameError\u001b[0m: name 'data' is not defined"
     ]
    }
   ],
   "source": [
    "data.optimized_assignee.unique()"
   ]
  },
  {
   "cell_type": "code",
   "execution_count": null,
   "metadata": {},
   "outputs": [],
   "source": [
    "data[\"country\"].unique()"
   ]
  },
  {
   "cell_type": "code",
   "execution_count": null,
   "metadata": {},
   "outputs": [],
   "source": [
    "#make countrynames lowercase\n",
    "data[\"country\"] = data[\"country\"].str.lower()"
   ]
  },
  {
   "cell_type": "code",
   "execution_count": null,
   "metadata": {},
   "outputs": [],
   "source": [
    "#hong kong to china in order to be displayed in worldmap later\n",
    "data[\"country\"] = data.apply(lambda x: \"china\" if x[\"country\"]== 'hong kong (s.a.r.)' else x[\"country\"],axis =1)"
   ]
  },
  {
   "cell_type": "code",
   "execution_count": null,
   "metadata": {},
   "outputs": [],
   "source": [
    "data[data[\"country\"]==\"china\"]"
   ]
  },
  {
   "cell_type": "code",
   "execution_count": null,
   "metadata": {},
   "outputs": [],
   "source": [
    "data[[\"publication_number\",\"country\"]]"
   ]
  },
  {
   "cell_type": "code",
   "execution_count": null,
   "metadata": {},
   "outputs": [],
   "source": [
    "#data = data[data[\"country\"]!=\"china\"]"
   ]
  },
  {
   "cell_type": "code",
   "execution_count": null,
   "metadata": {},
   "outputs": [],
   "source": [
    "#DELETE THIS SHIT\n",
    "from pandas import NA\n",
    "\n",
    "\n",
    "percentage_column = data[data['country'].values != \"\"]\n",
    "percentage_column = percentage_column[[\"publication_number\",\"country\"]].groupby('country').agg('count')*100.0/len(data)\n",
    "percentage_column.rename(columns = {\"publication_number\" : \"proportion_of_publication_number\"}, inplace = True)\n",
    "percentage_column.reset_index(inplace = True)\n",
    "percentage_column[\"proportion_of_publication_number\"] = percentage_column.apply(lambda x: NA if x[\"proportion_of_publication_number\"] == 0 else x[\"proportion_of_publication_number\"],axis = 1)\n",
    "data_all = data.merge(percentage_column, left_on = 'country', right_on = 'country', how='left')\n",
    "data_all\n",
    "\n",
    "#create data for proportion and add it to data df BUT FOR GRANTED ONLY\n",
    "prestep= data[data['country'].values != \"\"]\n",
    "percentage_column = prestep[prestep[\"simplified_status\"] == \"granted\"]\n",
    "percentage_column = percentage_column[[\"publication_number\",\"country\"]].groupby('country').agg('count')*100.0/len(data)\n",
    "percentage_column.rename(columns = {\"publication_number\" : \"proportion_of_publication_number\"}, inplace = True)\n",
    "percentage_column.reset_index(inplace = True)\n",
    "percentage_column[\"proportion_of_publication_number\"] = percentage_column.apply(lambda x: NA if x[\"proportion_of_publication_number\"] == 0 else x[\"proportion_of_publication_number\"],axis = 1)\n",
    "data_granted = data.merge(percentage_column, left_on = 'country', right_on = 'country', how='left')\n",
    "data_granted\n",
    "\n",
    "#create data for proportion and add it to data df BUT FOR NOT-GRANTED ONLY\n",
    "prestep= data[data['country'].values != \"\"]\n",
    "percentage_column = prestep[prestep[\"simplified_status\"] == \"not granted\"]\n",
    "percentage_column = percentage_column[[\"publication_number\",\"country\"]].groupby('country').agg('count')*100.0/len(data)\n",
    "percentage_column.rename(columns = {\"publication_number\" : \"proportion_of_publication_number\"}, inplace = True)\n",
    "percentage_column.reset_index(inplace = True)\n",
    "percentage_column[\"proportion_of_publication_number\"] = percentage_column.apply(lambda x: NA if x[\"proportion_of_publication_number\"] == 0 else x[\"proportion_of_publication_number\"],axis = 1)\n",
    "data_not_granted = data.merge(percentage_column, left_on = 'country', right_on = 'country', how='left')\n",
    "data_not_granted\n"
   ]
  },
  {
   "cell_type": "code",
   "execution_count": null,
   "metadata": {},
   "outputs": [],
   "source": [
    "percentage_column.sort_values(by=\"proportion_of_publication_number\", ascending = False)"
   ]
  },
  {
   "cell_type": "code",
   "execution_count": null,
   "metadata": {},
   "outputs": [],
   "source": [
    "#get current working directory\n",
    "\n",
    "current_wd = os.getcwd()\n",
    "path_worldmap= \"/Worldmap/World_Countries.shp\"\n",
    "path_worldmap = current_wd+path_worldmap\n",
    "path_worldmap"
   ]
  },
  {
   "cell_type": "code",
   "execution_count": null,
   "metadata": {},
   "outputs": [],
   "source": [
    "#read worldmap shape file\n",
    "world_map = gpd.read_file(path_worldmap)"
   ]
  },
  {
   "cell_type": "code",
   "execution_count": null,
   "metadata": {},
   "outputs": [],
   "source": [
    "world_map"
   ]
  },
  {
   "cell_type": "code",
   "execution_count": null,
   "metadata": {},
   "outputs": [],
   "source": []
  },
  {
   "cell_type": "code",
   "execution_count": null,
   "metadata": {},
   "outputs": [],
   "source": [
    "#make country names lowercase in order to match dataframes by countrynames\n",
    "world_map[\"COUNTRY\"]=world_map[\"COUNTRY\"].str.lower()\n",
    "world_map.sort_values(by = \"COUNTRY\")"
   ]
  },
  {
   "cell_type": "code",
   "execution_count": null,
   "metadata": {},
   "outputs": [],
   "source": [
    "world_map[world_map[\"COUNTRY\"]==\"united states of america\"]"
   ]
  },
  {
   "cell_type": "code",
   "execution_count": null,
   "metadata": {},
   "outputs": [],
   "source": [
    "world_map.loc[[229]]"
   ]
  },
  {
   "cell_type": "code",
   "execution_count": null,
   "metadata": {},
   "outputs": [],
   "source": [
    "data_all.columns"
   ]
  },
  {
   "cell_type": "code",
   "execution_count": null,
   "metadata": {},
   "outputs": [],
   "source": [
    "#adjust important names for merging\n",
    "world_map[\"COUNTRY\"] = world_map[\"COUNTRY\"].str.replace(\"united states\", \"united states of america\")\n",
    "world_map[\"COUNTRY\"] = world_map[\"COUNTRY\"].str.replace(\"south korea\", \"korea (south)\")\n",
    "world_map[\"COUNTRY\"] = world_map[\"COUNTRY\"].str.replace(\"moldova\", \"republic of moldova\")\n",
    "world_map[\"COUNTRY\"] = world_map[\"COUNTRY\"].str.replace(\"russia\", \"russian federation\")\n",
    "#data[\"country\"] = data[\"country\"].str.replace(\"hong kong (s.a.r.)\", \"china\")\n",
    "#world_map[\"COUNTRY\"] = world_map[\"COUNTRY\"].str.replace(f\"hong kong (s.a.r)\", \"china\")\n",
    "\n"
   ]
  },
  {
   "cell_type": "code",
   "execution_count": null,
   "metadata": {},
   "outputs": [],
   "source": [
    "world_map[world_map[\"COUNTRY\"]== \"united states\"]"
   ]
  },
  {
   "cell_type": "code",
   "execution_count": null,
   "metadata": {},
   "outputs": [],
   "source": [
    "world_map"
   ]
  },
  {
   "cell_type": "code",
   "execution_count": null,
   "metadata": {},
   "outputs": [],
   "source": [
    "#merge dataframes\n",
    "merged_all = world_map.merge(data_all, left_on = 'COUNTRY', right_on = 'country', how='outer')\n",
    "merged_all['proportion_of_publication_number'] = merged_all['proportion_of_publication_number'].fillna(0)\n",
    "\n",
    "#merge granted\n",
    "merged_granted = world_map.merge(data_granted, left_on = 'COUNTRY', right_on = 'country', how='outer')\n",
    "merged_granted['proportion_of_publication_number'] = merged_granted['proportion_of_publication_number'].fillna(0)\n",
    "\n",
    "merged_not_granted = world_map.merge(data_not_granted, left_on = 'COUNTRY', right_on = 'country', how='outer')\n",
    "merged_not_granted['proportion_of_publication_number'] = merged_not_granted['proportion_of_publication_number'].fillna(0)\n"
   ]
  },
  {
   "cell_type": "code",
   "execution_count": null,
   "metadata": {},
   "outputs": [],
   "source": [
    "#create list of countries that are not on the world map\n",
    "\n",
    "countries_not_on_map = []\n",
    "for element in list(percentage_column[\"country\"]):\n",
    "    if element not in list(world_map[\"COUNTRY\"]):\n",
    "        countries_not_on_map.append(element)\n",
    " \n",
    "print(countries_not_on_map)"
   ]
  },
  {
   "cell_type": "code",
   "execution_count": null,
   "metadata": {},
   "outputs": [],
   "source": [
    "#extract proportions for if \"country\" is no actual country\n",
    "nocountries = percentage_column[\"country\"].isin(countries_not_on_map)\n",
    "nocountries = percentage_column[nocountries]\n",
    "nocountries"
   ]
  },
  {
   "cell_type": "code",
   "execution_count": null,
   "metadata": {},
   "outputs": [],
   "source": [
    "merged_all.info()"
   ]
  },
  {
   "cell_type": "code",
   "execution_count": null,
   "metadata": {},
   "outputs": [],
   "source": [
    "merged_all.describe()"
   ]
  },
  {
   "cell_type": "code",
   "execution_count": null,
   "metadata": {},
   "outputs": [],
   "source": [
    "#merged= merged[merged[\"COUNTRY\"] != \"china\"]"
   ]
  },
  {
   "cell_type": "code",
   "execution_count": null,
   "metadata": {},
   "outputs": [],
   "source": []
  },
  {
   "cell_type": "code",
   "execution_count": null,
   "metadata": {},
   "outputs": [],
   "source": [
    "#plot worldmap ALL\n",
    "\n",
    "import matplotlib.pyplot as plt\n",
    "import numpy as np\n",
    "from matplotlib import cm\n",
    "from matplotlib.colors import TwoSlopeNorm\n",
    "import statistics\n",
    "\n",
    "#statistics.median(percentage_column[\"proportion_of_publication_number\"])\n",
    "\n",
    "\n",
    "fig, ax = plt.subplots(figsize = (20,10))\n",
    "\n",
    "#divider = make_axes_locatable(ax)\n",
    "\n",
    "#cax = divider.append_axes(\"right\", size=\"5%\", pad=0.1)\n",
    "\n",
    "# create a normalized colorbar\n",
    "norm = TwoSlopeNorm(vmin=min(percentage_column[\"proportion_of_publication_number\"]),\n",
    "                    vcenter=statistics.median(percentage_column[\"proportion_of_publication_number\"]),\n",
    "                    vmax=max(percentage_column[\"proportion_of_publication_number\"]))\n",
    "cmap=plt.cm.get_cmap('nipy_spectral', 50)\n",
    "#cbar = plt.cm.ScalarMappable(norm=norm, cmap=cmap)\n",
    "\n",
    "#creating values for tick in legend; 20 ticks\n",
    "ticks = []\n",
    "for x in range(1,21):\n",
    "    ticks.append(round(x/20*max(merged_all[\"proportion_of_publication_number\"]),1))\n",
    "\n",
    "tick_label = []\n",
    "for x in range(1,21):\n",
    "    tick_label.append(f\"{round(x/20*max(merged_all['proportion_of_publication_number']),1)}%\")\n",
    "\n",
    "#not in use yet\n",
    "legend_label = []\n",
    "for x in range(1,21):\n",
    "    legend_label.append(f\"{round(x/20*max(merged_all['proportion_of_publication_number']),1)}%\")\n",
    "legend_label\n",
    "\n",
    "fig = merged_all.plot(ax = ax,markersize = 100,column = 'proportion_of_publication_number', figsize=(20,10),\n",
    "                                                     cmap=cmap,\n",
    "                                                     # create a normalized colorbar\n",
    "                                                     #cbar = plt.cm.ScalarMappable(norm=norm),  \n",
    "                                                     legend = True,\n",
    "                                                    \n",
    "                                                     legend_kwds={'label': 'Proportion of Patents in %',\n",
    "                                                                    #'title_fontsize':20,\n",
    "                                                                    'orientation': \"horizontal\",\n",
    "                                                                    'pad': 0.04,\n",
    "                                                                    'fraction': 0.09,\n",
    "                                                                   # 'norm': norm,\n",
    "                                                                    'ticks':ticks\n",
    "                                                                    #\"fmt\":\"{:%}\"\n",
    "                                                                    \n",
    "                                                                    },\n",
    "                                                     missing_kwds={\n",
    "                                                                 \"color\":\"grey\",\n",
    "                                                                 \"edgecolor\":\"black\",\n",
    "                                                                 \"hatch\":\"---\",\n",
    "                                                                 \"label\":\"Missing Values\"\n",
    "                                                                },\n",
    "                                                     vmin=0, vmax=max(merged_all[\"proportion_of_publication_number\"])\n",
    "                                                     )\n",
    "\n",
    "\n",
    "#include no countries in the title\n",
    "#creation of string\n",
    "#preparation for no country entries\n",
    "nocountries_string =f\"{str(nocountries.iloc[0][0])}: {str(round(nocountries.iloc[0][1],2))}% \\n \"\n",
    "nocountries_string\n",
    "for i in range(len(nocountries)):\n",
    "    if i == 0:\n",
    "        continue\n",
    "    nocountries_string = nocountries_string + f\"{str(nocountries.iloc[i][0])}: {str(round(nocountries.iloc[i][1],2))}% \\n \"\n",
    "\n",
    "#ax_cbar = fig.colorbar(cbar, ax=ax)\n",
    "#plt.legend(title = \"lol\",loc = \"lower center\")\n",
    "plt.title(f\"Worldwide distribution of\\nAll Patents\", fontsize = 30, loc = \"left\",y = 1.01,style = 'italic')\n",
    "from datetime import datetime\n",
    "now = datetime.now()\n",
    "plt.title(f\"{now.strftime('%d/%m/%Y %H:%M')}\", loc='right', fontsize=15, color='grey', style='italic')\n",
    "plt.tick_params(left = False, bottom = False)\n",
    "#ax.axes.set_xticklabels(tick_label)\n",
    "\n",
    "\n",
    "ax.axes.get_xaxis().set_visible(False)\n",
    "ax.axes.get_yaxis().set_visible(False)\n",
    "\n",
    "plt.show()"
   ]
  },
  {
   "cell_type": "code",
   "execution_count": null,
   "metadata": {},
   "outputs": [],
   "source": [
    "nocountries_string"
   ]
  },
  {
   "cell_type": "markdown",
   "metadata": {},
   "source": [
    "GRANTED"
   ]
  },
  {
   "cell_type": "code",
   "execution_count": null,
   "metadata": {},
   "outputs": [],
   "source": [
    "#plot worldmap GRANTED\n",
    "\n",
    "import matplotlib.pyplot as plt\n",
    "import numpy as np\n",
    "from matplotlib import cm\n",
    "from matplotlib.colors import TwoSlopeNorm\n",
    "import statistics\n",
    "\n",
    "#statistics.median(percentage_column[\"proportion_of_publication_number\"])\n",
    "\n",
    "\n",
    "fig, ax = plt.subplots(figsize = (20,10))\n",
    "\n",
    "#divider = make_axes_locatable(ax)\n",
    "\n",
    "#cax = divider.append_axes(\"right\", size=\"5%\", pad=0.1)\n",
    "\n",
    "# create a normalized colorbar\n",
    "#norm = TwoSlopeNorm(vmin=min(percentage_column[\"proportion_of_publication_number\"]),\n",
    "#                    vcenter=statistics.median(percentage_column[\"proportion_of_publication_number\"]),\n",
    "#                    vmax=max(percentage_column[\"proportion_of_publication_number\"]))\n",
    "cmap=plt.cm.get_cmap('nipy_spectral', 50)\n",
    "#cbar = plt.cm.ScalarMappable(norm=norm, cmap=cmap)\n",
    "\n",
    "#creating values for tick in legend; 20 ticks\n",
    "ticks = []\n",
    "for x in range(1,21):\n",
    "    ticks.append(round(x/20*max(merged_granted[\"proportion_of_publication_number\"]),1))\n",
    "\n",
    "tick_label = []\n",
    "for x in range(1,21):\n",
    "    tick_label.append(f\"{round(x/20*max(merged_granted['proportion_of_publication_number']),1)}%\")\n",
    "\n",
    "#not in use yet\n",
    "legend_label = []\n",
    "for x in range(1,21):\n",
    "    legend_label.append(f\"{round(x/20*max(merged_granted['proportion_of_publication_number']),1)}%\")\n",
    "legend_label\n",
    "\n",
    "fig = merged_granted.plot(ax = ax,markersize = 100,column = 'proportion_of_publication_number', figsize=(20,10),\n",
    "                                                     cmap=cmap,\n",
    "                                                     # create a normalized colorbar\n",
    "                                                     #cbar = plt.cm.ScalarMappable(norm=norm),  \n",
    "                                                     legend = True,\n",
    "                                                    \n",
    "                                                     legend_kwds={'label': 'Proportion of Patents in %',\n",
    "                                                                    #'title_fontsize':20,\n",
    "                                                                    'orientation': \"horizontal\",\n",
    "                                                                    'pad': 0.04,\n",
    "                                                                    'fraction': 0.09,\n",
    "                                                                   # 'norm': norm,\n",
    "                                                                    'ticks':ticks\n",
    "                                                                    #\"fmt\":\"{:%}\"\n",
    "                                                                    \n",
    "                                                                    },\n",
    "                                                     missing_kwds={\n",
    "                                                                 \"color\":\"grey\",\n",
    "                                                                 \"edgecolor\":\"black\",\n",
    "                                                                 \"hatch\":\"---\",\n",
    "                                                                 \"label\":\"Missing Values\"\n",
    "                                                                },\n",
    "                                                     vmin=0, vmax=max(merged_granted[\"proportion_of_publication_number\"])\n",
    "                                                     )\n",
    "\n",
    "\n",
    "#include no countries in the title\n",
    "#creation of string\n",
    "#preparation for no country entries\n",
    "nocountries_string =f\"{str(nocountries.iloc[0][0])}: {str(round(nocountries.iloc[0][1],2))}% \\n \"\n",
    "nocountries_string\n",
    "for i in range(len(nocountries)):\n",
    "    if i == 0:\n",
    "        continue\n",
    "    nocountries_string = nocountries_string + f\"{str(nocountries.iloc[i][0])}: {str(round(nocountries.iloc[i][1],2))}% \\n \"\n",
    "\n",
    "#ax_cbar = fig.colorbar(cbar, ax=ax)\n",
    "#plt.legend(title = \"lol\",loc = \"lower center\")\n",
    "plt.title(f\"Worldwide distribution of\\nGranted Patents\", fontsize = 30, loc = \"left\",y = 1.01,style = 'italic')\n",
    "from datetime import datetime\n",
    "now = datetime.now()\n",
    "plt.title(f\"{now.strftime('%d/%m/%Y %H:%M')}\", loc='right', fontsize=15, color='grey', style='italic')\n",
    "plt.tick_params(left = False, bottom = False)\n",
    "#ax.axes.set_xticklabels(tick_label)\n",
    "\n",
    "\n",
    "ax.axes.get_xaxis().set_visible(False)\n",
    "ax.axes.get_yaxis().set_visible(False)\n",
    "\n",
    "plt.show()"
   ]
  },
  {
   "cell_type": "markdown",
   "metadata": {},
   "source": [
    "Not-Granted"
   ]
  },
  {
   "cell_type": "markdown",
   "metadata": {},
   "source": []
  },
  {
   "cell_type": "code",
   "execution_count": null,
   "metadata": {},
   "outputs": [],
   "source": [
    "#plot worldmap NOT-GRANTED\n",
    "\n",
    "import matplotlib.pyplot as plt\n",
    "import numpy as np\n",
    "from matplotlib import cm\n",
    "from matplotlib.colors import TwoSlopeNorm\n",
    "import statistics\n",
    "\n",
    "#statistics.median(percentage_column[\"proportion_of_publication_number\"])\n",
    "\n",
    "\n",
    "fig, ax = plt.subplots(figsize = (20,10))\n",
    "\n",
    "#divider = make_axes_locatable(ax)\n",
    "\n",
    "#cax = divider.append_axes(\"right\", size=\"5%\", pad=0.1)\n",
    "\n",
    "# create a normalized colorbar\n",
    "#norm = TwoSlopeNorm(vmin=min(percentage_column[\"proportion_of_publication_number\"]),\n",
    "#                    vcenter=statistics.median(percentage_column[\"proportion_of_publication_number\"]),\n",
    "#                    vmax=max(percentage_column[\"proportion_of_publication_number\"]))\n",
    "cmap=plt.cm.get_cmap('nipy_spectral', 50)\n",
    "#cbar = plt.cm.ScalarMappable(norm=norm, cmap=cmap)\n",
    "\n",
    "#creating values for tick in legend; 20 ticks\n",
    "ticks = []\n",
    "for x in range(1,21):\n",
    "    ticks.append(round(x/20*max(merged_not_granted[\"proportion_of_publication_number\"]),1))\n",
    "\n",
    "tick_label = []\n",
    "for x in range(1,21):\n",
    "    tick_label.append(f\"{round(x/20*max(merged_not_granted['proportion_of_publication_number']),1)}%\")\n",
    "\n",
    "#not in use yet\n",
    "legend_label = []\n",
    "for x in range(1,21):\n",
    "    legend_label.append(f\"{round(x/20*max(merged_not_granted['proportion_of_publication_number']),1)}%\")\n",
    "legend_label\n",
    "\n",
    "fig = merged_not_granted.plot(ax = ax,markersize = 100,column = 'proportion_of_publication_number', figsize=(20,10),\n",
    "                                                     cmap=cmap,\n",
    "                                                     # create a normalized colorbar\n",
    "                                                     #cbar = plt.cm.ScalarMappable(norm=norm),  \n",
    "                                                     legend = True,\n",
    "                                                    \n",
    "                                                     legend_kwds={'label': 'Proportion of Patents in %',\n",
    "                                                                    #'title_fontsize':20,\n",
    "                                                                    'orientation': \"horizontal\",\n",
    "                                                                    'pad': 0.04,\n",
    "                                                                    'fraction': 0.09,\n",
    "                                                                   # 'norm': norm,\n",
    "                                                                    'ticks':ticks\n",
    "                                                                    #\"fmt\":\"{:%}\"\n",
    "                                                                    \n",
    "                                                                    },\n",
    "                                                     missing_kwds={\n",
    "                                                                 \"color\":\"grey\",\n",
    "                                                                 \"edgecolor\":\"black\",\n",
    "                                                                 \"hatch\":\"---\",\n",
    "                                                                 \"label\":\"Missing Values\"\n",
    "                                                                },\n",
    "                                                     vmin=0, vmax=max(merged_not_granted[\"proportion_of_publication_number\"])\n",
    "                                                     )\n",
    "\n",
    "\n",
    "#include no countries in the title\n",
    "#creation of string\n",
    "#preparation for no country entries\n",
    "nocountries_string =f\"{str(nocountries.iloc[0][0])}: {str(round(nocountries.iloc[0][1],2))}% \\n \"\n",
    "nocountries_string\n",
    "for i in range(len(nocountries)):\n",
    "    if i == 0:\n",
    "        continue\n",
    "    nocountries_string = nocountries_string + f\"{str(nocountries.iloc[i][0])}: {str(round(nocountries.iloc[i][1],2))}% \\n \"\n",
    "\n",
    "#ax_cbar = fig.colorbar(cbar, ax=ax)\n",
    "#plt.legend(title = \"lol\",loc = \"lower center\")\n",
    "plt.title(f\"Worldwide distribution of\\nNot-Granted Patents\", fontsize = 30, loc = \"left\",y = 1.01,style = 'italic')\n",
    "from datetime import datetime\n",
    "now = datetime.now()\n",
    "plt.title(f\"{now.strftime('%d/%m/%Y %H:%M')}\", loc='right', fontsize=15, color='grey', style='italic')\n",
    "plt.tick_params(left = False, bottom = False)\n",
    "#ax.axes.set_xticklabels(tick_label)\n",
    "\n",
    "\n",
    "ax.axes.get_xaxis().set_visible(False)\n",
    "ax.axes.get_yaxis().set_visible(False)\n",
    "\n",
    "plt.show()"
   ]
  },
  {
   "cell_type": "code",
   "execution_count": null,
   "metadata": {},
   "outputs": [],
   "source": [
    "data.columns"
   ]
  },
  {
   "cell_type": "code",
   "execution_count": null,
   "metadata": {},
   "outputs": [],
   "source": [
    "data"
   ]
  },
  {
   "cell_type": "code",
   "execution_count": null,
   "metadata": {},
   "outputs": [
    {
     "name": "stdout",
     "output_type": "stream",
     "text": [
      "affine==2.3.1\n",
      "appnope @ file:///Users/ktietz/demo/mc3/conda-bld/appnope_1629146036738/work\n",
      "argon2-cffi @ file:///opt/conda/conda-bld/argon2-cffi_1645000214183/work\n",
      "argon2-cffi-bindings @ file:///private/var/folders/nz/j6p8yfhx1mv_0grj5xl4650h0000gp/T/croot-wbf5edig/argon2-cffi-bindings_1644845754377/work\n",
      "asttokens @ file:///opt/conda/conda-bld/asttokens_1646925590279/work\n",
      "attrs @ file:///opt/conda/conda-bld/attrs_1642510447205/work\n",
      "backcall @ file:///home/ktietz/src/ci/backcall_1611930011877/work\n",
      "beautifulsoup4 @ file:///private/var/folders/nz/j6p8yfhx1mv_0grj5xl4650h0000gp/T/abs_croot-15cbtalq/beautifulsoup4_1650462161715/work\n",
      "bleach @ file:///opt/conda/conda-bld/bleach_1641577558959/work\n",
      "bokeh==2.4.3\n",
      "Bottleneck @ file:///private/var/folders/nz/j6p8yfhx1mv_0grj5xl4650h0000gp/T/abs_07078715-3ab7-4562-8d3d-d56b0eaa0f7dp504n_ny/croots/recipe/bottleneck_1657175566567/work\n",
      "branca==0.5.0\n",
      "bs4==0.0.1\n",
      "celluloid==0.2.0\n",
      "certifi @ file:///private/var/folders/nz/j6p8yfhx1mv_0grj5xl4650h0000gp/T/abs_884c889c-96af-444f-bd6d-daddb5e9a462ykj3l5n_/croots/recipe/certifi_1655968814730/work/certifi\n",
      "cffi @ file:///private/var/folders/nz/j6p8yfhx1mv_0grj5xl4650h0000gp/T/abs_f9af_qffaa/croots/recipe/cffi_1659598650277/work\n",
      "charset-normalizer==2.1.1\n",
      "click==8.1.3\n",
      "click-plugins==1.1.1\n",
      "cligj==0.7.2\n",
      "contextily==1.2.0\n",
      "cycler @ file:///tmp/build/80754af9/cycler_1637851556182/work\n",
      "debugpy @ file:///Users/builder/miniconda3/envs/prefect/conda-bld/debugpy_1637092214173/work\n",
      "decorator @ file:///opt/conda/conda-bld/decorator_1643638310831/work\n",
      "defusedxml @ file:///tmp/build/80754af9/defusedxml_1615228127516/work\n",
      "entrypoints @ file:///private/var/folders/nz/j6p8yfhx1mv_0grj5xl4650h0000gp/T/abs_croot-jb01gaox/entrypoints_1650293758411/work\n",
      "et-xmlfile==1.1.0\n",
      "executing @ file:///opt/conda/conda-bld/executing_1646925071911/work\n",
      "fastjsonschema @ file:///private/var/folders/nz/j6p8yfhx1mv_0grj5xl4650h0000gp/T/abs_43a0jaiddu/croots/recipe/python-fastjsonschema_1661368628129/work\n",
      "Fiona==1.8.22\n",
      "folium==0.13.0\n",
      "fonttools==4.25.0\n",
      "futures==3.0.5\n",
      "geographiclib==1.52\n",
      "geopandas==0.12.0\n",
      "geopy==2.2.0\n",
      "goslate==1.5.4\n",
      "idna==3.4\n",
      "ipykernel @ file:///private/var/folders/nz/j6p8yfhx1mv_0grj5xl4650h0000gp/T/abs_croot-4yxj69n0/ipykernel_1647009452031/work/dist/ipykernel-6.9.1-py3-none-any.whl\n",
      "ipython @ file:///private/var/folders/nz/j6p8yfhx1mv_0grj5xl4650h0000gp/T/abs_df384d36-235b-4a10-98f5-52bceb3ceae46obihg1k/croots/recipe/ipython_1657652224441/work\n",
      "ipython-genutils @ file:///tmp/build/80754af9/ipython_genutils_1606773439826/work\n",
      "jedi @ file:///private/var/folders/nz/j6p8yfhx1mv_0grj5xl4650h0000gp/T/croot-f1t6hma6/jedi_1644315882177/work\n",
      "Jinja2 @ file:///opt/conda/conda-bld/jinja2_1647436528585/work\n",
      "joblib @ file:///tmp/build/80754af9/joblib_1635411271373/work\n",
      "jsonschema @ file:///private/var/folders/nz/j6p8yfhx1mv_0grj5xl4650h0000gp/T/abs_croot-s120sjbo/jsonschema_1650294446111/work\n",
      "jupyter-client @ file:///private/var/folders/nz/j6p8yfhx1mv_0grj5xl4650h0000gp/T/abs_37f0874a-8189-43c8-984a-7cc5aa7f2a00vekz677y/croots/recipe/jupyter_client_1650622203010/work\n",
      "jupyter-core @ file:///private/var/folders/nz/j6p8yfhx1mv_0grj5xl4650h0000gp/T/abs_5839c60e-0f30-4a99-b0b9-2b009ec5fec40y9fo9ym/croots/recipe/jupyter_core_1651671230982/work\n",
      "jupyterlab-pygments @ file:///tmp/build/80754af9/jupyterlab_pygments_1601490720602/work\n",
      "kiwisolver @ file:///private/var/folders/nz/j6p8yfhx1mv_0grj5xl4650h0000gp/T/abs_69de275f-e01d-4033-8ea6-9caf70c31072d5uirqak/croots/recipe/kiwisolver_1653292042660/work\n",
      "libretranslatepy==2.1.1\n",
      "lxml==4.9.1\n",
      "mapclassify==2.4.3\n",
      "MarkupSafe @ file:///private/var/folders/nz/j6p8yfhx1mv_0grj5xl4650h0000gp/T/abs_12c133f5-0720-4727-9c18-599a3af825723lzwham3/croots/recipe/markupsafe_1654597866058/work\n",
      "matplotlib @ file:///private/var/folders/nz/j6p8yfhx1mv_0grj5xl4650h0000gp/T/abs_5fi9l6u9e6/croots/recipe/matplotlib-suite_1660167931049/work\n",
      "matplotlib-inline @ file:///tmp/build/80754af9/matplotlib-inline_1628242447089/work\n",
      "mercantile==1.2.1\n",
      "mistune @ file:///Users/ktietz/demo/mc3/conda-bld/mistune_1629356075445/work\n",
      "munch==2.5.0\n",
      "munkres==1.1.4\n",
      "nb-conda==2.2.1\n",
      "nb-conda-kernels @ file:///Users/ktietz/demo/mc3/conda-bld/nb_conda_kernels_1630565335507/work\n",
      "nbclient @ file:///private/var/folders/nz/j6p8yfhx1mv_0grj5xl4650h0000gp/T/abs_croot-08wgx75f/nbclient_1650373566605/work\n",
      "nbconvert @ file:///private/var/folders/nz/j6p8yfhx1mv_0grj5xl4650h0000gp/T/abs_croot-bbvj0nuy/nbconvert_1649751921251/work\n",
      "nbformat @ file:///private/var/folders/nz/j6p8yfhx1mv_0grj5xl4650h0000gp/T/abs_croot-vjh9n2f2/nbformat_1649931502895/work\n",
      "nest-asyncio @ file:///private/var/folders/nz/j6p8yfhx1mv_0grj5xl4650h0000gp/T/abs_croot-xymukih3/nest-asyncio_1649931465456/work\n",
      "networkx==2.8.7\n",
      "notebook @ file:///private/var/folders/nz/j6p8yfhx1mv_0grj5xl4650h0000gp/T/abs_dfmids47bo/croots/recipe/notebook_1659083663569/work\n",
      "numexpr @ file:///private/var/folders/nz/j6p8yfhx1mv_0grj5xl4650h0000gp/T/abs_08e1f2b1-735c-4635-9755-5afc6d3eb18ew8ilpa0t/croots/recipe/numexpr_1656940301129/work\n",
      "numpy @ file:///private/var/folders/nz/j6p8yfhx1mv_0grj5xl4650h0000gp/T/abs_9bff6b9b-6adc-40a2-b632-076fce306026zq15ylrw/croots/recipe/numpy_and_numpy_base_1653915521605/work\n",
      "openpyxl==3.0.10\n",
      "packaging @ file:///tmp/build/80754af9/packaging_1637314298585/work\n",
      "pandas==1.4.3\n",
      "pandocfilters @ file:///opt/conda/conda-bld/pandocfilters_1643405455980/work\n",
      "parso @ file:///opt/conda/conda-bld/parso_1641458642106/work\n",
      "patsy==0.5.2\n",
      "pexpect @ file:///tmp/build/80754af9/pexpect_1605563209008/work\n",
      "pickleshare @ file:///tmp/build/80754af9/pickleshare_1606932040724/work\n",
      "Pillow==9.2.0\n",
      "plotly==5.11.0\n",
      "prometheus-client @ file:///private/var/folders/nz/j6p8yfhx1mv_0grj5xl4650h0000gp/T/abs_25sgeyk0j5/croots/recipe/prometheus_client_1659455103277/work\n",
      "prompt-toolkit @ file:///tmp/build/80754af9/prompt-toolkit_1633440160888/work\n",
      "psycopg2-binary==2.9.3\n",
      "ptyprocess @ file:///tmp/build/80754af9/ptyprocess_1609355006118/work/dist/ptyprocess-0.7.0-py2.py3-none-any.whl\n",
      "pure-eval @ file:///opt/conda/conda-bld/pure_eval_1646925070566/work\n",
      "pycparser @ file:///tmp/build/80754af9/pycparser_1636541352034/work\n",
      "PyDictionary==2.0.1\n",
      "Pygments @ file:///opt/conda/conda-bld/pygments_1644249106324/work\n",
      "pyparsing @ file:///private/var/folders/nz/j6p8yfhx1mv_0grj5xl4650h0000gp/T/abs_3b_3vxnd07/croots/recipe/pyparsing_1661452540919/work\n",
      "pyproj==3.4.0\n",
      "pyrsistent @ file:///Users/ktietz/demo/mc3/conda-bld/pyrsistent_1628941062930/work\n",
      "python-dateutil @ file:///tmp/build/80754af9/python-dateutil_1626374649649/work\n",
      "python-dotenv==0.21.0\n",
      "pytz @ file:///private/var/folders/nz/j6p8yfhx1mv_0grj5xl4650h0000gp/T/abs_830e8540-4c59-42fe-9515-a6f79c24ff6dh653xa67/croots/recipe/pytz_1654762630628/work\n",
      "PyYAML==6.0\n",
      "pyzmq @ file:///private/var/folders/nz/j6p8yfhx1mv_0grj5xl4650h0000gp/T/abs_8599562e-e9e5-443b-91db-7f7c0ba6aad3mrdoyvz4/croots/recipe/pyzmq_1657724196154/work\n",
      "rasterio==1.3.3\n",
      "requests==2.28.1\n",
      "scikit-learn @ file:///private/var/folders/nz/j6p8yfhx1mv_0grj5xl4650h0000gp/T/abs_c0267ca0-12ff-4800-bd07-7f998adef27bh_cts5yf/croots/recipe/scikit-learn_1658419411147/work\n",
      "scipy @ file:///private/var/folders/nz/j6p8yfhx1mv_0grj5xl4650h0000gp/T/abs_00g7o_6fb8/croots/recipe/scipy_1661390408322/work\n",
      "seaborn @ file:///tmp/build/80754af9/seaborn_1629307859561/work\n",
      "Send2Trash @ file:///tmp/build/80754af9/send2trash_1632406701022/work\n",
      "Shapely==1.8.5.post1\n",
      "six @ file:///tmp/build/80754af9/six_1644875935023/work\n",
      "snuggs==1.4.7\n",
      "soupsieve @ file:///tmp/build/80754af9/soupsieve_1636706018808/work\n",
      "SQLAlchemy==1.4.41\n",
      "stack-data @ file:///opt/conda/conda-bld/stack_data_1646927590127/work\n",
      "statsmodels @ file:///private/var/folders/nz/j6p8yfhx1mv_0grj5xl4650h0000gp/T/abs_croot-h_zxnv9y/statsmodels_1648111574509/work\n",
      "tenacity==8.1.0\n",
      "terminado @ file:///private/var/folders/nz/j6p8yfhx1mv_0grj5xl4650h0000gp/T/croot-n1puqh63/terminado_1644395131327/work\n",
      "testpath @ file:///private/var/folders/nz/j6p8yfhx1mv_0grj5xl4650h0000gp/T/abs_8eff48dc-c5e8-4dc1-bdf5-49b333fc562a74hpzn48/croots/recipe/testpath_1655908554731/work\n",
      "threadpoolctl @ file:///Users/ktietz/demo/mc3/conda-bld/threadpoolctl_1629802263681/work\n",
      "tornado @ file:///Users/ktietz/demo/mc3/conda-bld/tornado_1628698929452/work\n",
      "traitlets @ file:///tmp/build/80754af9/traitlets_1636710298902/work\n",
      "translate==3.6.1\n",
      "typing_extensions @ file:///private/var/folders/nz/j6p8yfhx1mv_0grj5xl4650h0000gp/T/abs_27esv8zrkq/croots/recipe/typing_extensions_1659638827591/work\n",
      "urllib3==1.26.12\n",
      "wcwidth @ file:///Users/ktietz/demo/mc3/conda-bld/wcwidth_1629357192024/work\n",
      "webencodings==0.5.1\n",
      "xlrd==2.0.1\n",
      "xyzservices==2022.9.0\n",
      "Note: you may need to restart the kernel to use updated packages.\n"
     ]
    }
   ],
   "source": [
    "pip freeze > requirements.txt"
   ]
  },
  {
   "cell_type": "code",
   "execution_count": null,
   "metadata": {},
   "outputs": [],
   "source": [
    "merged_all"
   ]
  },
  {
   "cell_type": "code",
   "execution_count": null,
   "metadata": {},
   "outputs": [],
   "source": [
    "import folium\n",
    "\n",
    "map = folium.Map()\n",
    "map"
   ]
  },
  {
   "cell_type": "code",
   "execution_count": null,
   "metadata": {},
   "outputs": [],
   "source": [
    "!pip install plotly"
   ]
  },
  {
   "cell_type": "code",
   "execution_count": null,
   "metadata": {},
   "outputs": [],
   "source": [
    "import plotly.express as px\n",
    "\n",
    "df = px.data.gapminder().query(\"year==2007\")\n",
    "fig = px.choropleth(merged_all, locations=\"geometry\",\n",
    "                    color=\"proportion_of_publication_numbers\", # lifeExp is a column of gapminder\n",
    "                    hover_name=\"use\", # column to add to hover information\n",
    "                    color_continuous_scale=px.colors.sequential.Plasma)\n",
    "fig.show()"
   ]
  }
 ],
 "metadata": {
  "kernelspec": {
   "display_name": "Python 3.9.12 ('nf_base')",
   "language": "python",
   "name": "python3"
  },
  "language_info": {
   "codemirror_mode": {
    "name": "ipython",
    "version": 3
   },
   "file_extension": ".py",
   "mimetype": "text/x-python",
   "name": "python",
   "nbconvert_exporter": "python",
   "pygments_lexer": "ipython3",
   "version": "3.9.12"
  },
  "orig_nbformat": 4,
  "vscode": {
   "interpreter": {
    "hash": "ab3d85a18739f6fff6a9c8c504adc2ff9340867b576dede986e2ee74c099e4e5"
   }
  }
 },
 "nbformat": 4,
 "nbformat_minor": 2
}
