{
 "cells": [
  {
   "cell_type": "code",
   "execution_count": null,
   "metadata": {},
   "outputs": [],
   "source": [
    "import geopandas as gpd\n",
    "import matplotlib.pyplot as plt  \n",
    "import matplotlib.animation \n",
    "#import matplotlib\n",
    "#matplotlib.use('TkAgg')\n",
    "import numpy as np\n",
    "#Wetter-API Import\n",
    "import requests \n",
    "\n",
    "import os\n",
    "import pandas as pd\n",
    "import psycopg2\n",
    "import contextily as ctx\n",
    "from shapely.geometry import Point\n",
    "from mpl_toolkits.axes_grid1 import make_axes_locatable\n",
    "from itertools import chain\n"
   ]
  },
  {
   "cell_type": "code",
   "execution_count": null,
   "metadata": {},
   "outputs": [],
   "source": [
    "#read files inside folder for translational data\n",
    "\n",
    "\n",
    "from typing import List\n",
    "import pathlib\n",
    "wd = os.getcwd()\n",
    "wd = wd+\"/Prepared_Data\"\n",
    "def find_excel_files_in(directory:pathlib.Path) -> List[pathlib.Path]:\n",
    "    \n",
    "    files:List[pathlib.Path] = list()\n",
    "    for filepath in directory.rglob('*.csv'):\n",
    "        if filepath.is_file():\n",
    "            files.append(filepath)\n",
    "\n",
    "    return files\n",
    "\n",
    "# List of your directories\n",
    "directories:List[str] = [format(wd)]\n",
    "\n",
    "found_files:List[pathlib.Path] = list()\n",
    "\n",
    "for directory in directories:\n",
    "    directory:pathlib.Path = pathlib.Path(directory)\n",
    "    found_files.extend(find_excel_files_in(directory))\n",
    "\n",
    "#read excel files\n",
    "import pandas as pd\n",
    "\n",
    "#print(files)\n",
    "    #Deleting all empty rows in the file df\n",
    "for files in found_files:\n",
    "    data = pd.read_csv(files)\n"
   ]
  },
  {
   "cell_type": "code",
   "execution_count": null,
   "metadata": {},
   "outputs": [],
   "source": [
    "#create data for proportion and add it to data df\n",
    "#Creating 3 dataframes: All, Granted, Not-Granted with new column proportion_of_publication_number respectivly\n",
    "from pandas import NA\n",
    "\n",
    "\n",
    "percentage_column = data[data['country'].values != \"\"]\n",
    "percentage_column = percentage_column[[\"publication_number\",\"country\"]].groupby('country').agg('count')*100.0/len(data)\n",
    "percentage_column.rename(columns = {\"publication_number\" : \"proportion_of_publication_number\"}, inplace = True)\n",
    "percentage_column.reset_index(inplace = True)\n",
    "percentage_column[\"proportion_of_publication_number\"] = percentage_column.apply(lambda x: NA if x[\"proportion_of_publication_number\"] == 0 else x[\"proportion_of_publication_number\"],axis = 1)\n",
    "data_all = data.merge(percentage_column, left_on = 'country', right_on = 'country', how='left')\n",
    "data_all\n",
    "\n",
    "#create data for proportion and add it to data df BUT FOR GRANTED ONLY\n",
    "prestep= data[data['country'].values != \"\"]\n",
    "percentage_column = prestep[prestep[\"simplified_status\"] == \"granted\"]\n",
    "percentage_column = percentage_column[[\"publication_number\",\"country\"]].groupby('country').agg('count')*100.0/len(data)\n",
    "percentage_column.rename(columns = {\"publication_number\" : \"proportion_of_publication_number\"}, inplace = True)\n",
    "percentage_column.reset_index(inplace = True)\n",
    "percentage_column[\"proportion_of_publication_number\"] = percentage_column.apply(lambda x: NA if x[\"proportion_of_publication_number\"] == 0 else x[\"proportion_of_publication_number\"],axis = 1)\n",
    "data_granted = data.merge(percentage_column, left_on = 'country', right_on = 'country', how='left')\n",
    "data_granted\n",
    "\n",
    "#create data for proportion and add it to data df BUT FOR NOT-GRANTED ONLY\n",
    "prestep= data[data['country'].values != \"\"]\n",
    "percentage_column = prestep[prestep[\"simplified_status\"] == \"not granted\"]\n",
    "percentage_column = percentage_column[[\"publication_number\",\"country\"]].groupby('country').agg('count')*100.0/len(data)\n",
    "percentage_column.rename(columns = {\"publication_number\" : \"proportion_of_publication_number\"}, inplace = True)\n",
    "percentage_column.reset_index(inplace = True)\n",
    "percentage_column[\"proportion_of_publication_number\"] = percentage_column.apply(lambda x: NA if x[\"proportion_of_publication_number\"] == 0 else x[\"proportion_of_publication_number\"],axis = 1)\n",
    "data_not_granted = data.merge(percentage_column, left_on = 'country', right_on = 'country', how='left')\n",
    "data_not_granted\n"
   ]
  }
 ],
 "metadata": {
  "kernelspec": {
   "display_name": "Python 3.10.7 64-bit",
   "language": "python",
   "name": "python3"
  },
  "language_info": {
   "name": "python",
   "version": "3.10.7"
  },
  "orig_nbformat": 4,
  "vscode": {
   "interpreter": {
    "hash": "b0fa6594d8f4cbf19f97940f81e996739fb7646882a419484c72d19e05852a7e"
   }
  }
 },
 "nbformat": 4,
 "nbformat_minor": 2
}
